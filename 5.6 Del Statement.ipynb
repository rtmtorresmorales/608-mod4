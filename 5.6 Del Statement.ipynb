{
 "cells": [
  {
   "cell_type": "code",
   "execution_count": null,
   "id": "bbbcb10a-a23d-4b2c-b9de-509d66cba61d",
   "metadata": {},
   "outputs": [],
   "source": [
    "## Section 5.5. 5.6 Ramon Torres"
   ]
  },
  {
   "cell_type": "code",
   "execution_count": 1,
   "id": "fbd933ae-aad5-48bf-ad45-ef925de3dfdc",
   "metadata": {},
   "outputs": [],
   "source": [
    "numbers = list(range(0,10))"
   ]
  },
  {
   "cell_type": "code",
   "execution_count": 2,
   "id": "47b61289-49cd-440a-ae59-acfd628835fd",
   "metadata": {},
   "outputs": [
    {
     "data": {
      "text/plain": [
       "[0, 1, 2, 3, 4, 5, 6, 7, 8, 9]"
      ]
     },
     "execution_count": 2,
     "metadata": {},
     "output_type": "execute_result"
    }
   ],
   "source": [
    "numbers"
   ]
  },
  {
   "cell_type": "code",
   "execution_count": 3,
   "id": "44c6542b-571e-4c24-9308-68b37cb8bc64",
   "metadata": {},
   "outputs": [],
   "source": [
    "del numbers[-1]"
   ]
  },
  {
   "cell_type": "code",
   "execution_count": 4,
   "id": "9068169a-6f77-42ca-9632-ae1ded0989e3",
   "metadata": {},
   "outputs": [
    {
     "data": {
      "text/plain": [
       "[0, 1, 2, 3, 4, 5, 6, 7, 8]"
      ]
     },
     "execution_count": 4,
     "metadata": {},
     "output_type": "execute_result"
    }
   ],
   "source": [
    "numbers"
   ]
  },
  {
   "cell_type": "code",
   "execution_count": 5,
   "id": "52f363a0-f29c-45f0-9c54-cf6046d2c923",
   "metadata": {},
   "outputs": [],
   "source": [
    "del numbers[0:2]"
   ]
  },
  {
   "cell_type": "code",
   "execution_count": 6,
   "id": "0722bcfe-3b50-4fa7-ba1d-3979f4b96241",
   "metadata": {},
   "outputs": [
    {
     "data": {
      "text/plain": [
       "[2, 3, 4, 5, 6, 7, 8]"
      ]
     },
     "execution_count": 6,
     "metadata": {},
     "output_type": "execute_result"
    }
   ],
   "source": [
    "numbers"
   ]
  },
  {
   "cell_type": "code",
   "execution_count": 7,
   "id": "f5fb9369-7f65-41b1-8655-ba2016f98b9b",
   "metadata": {},
   "outputs": [],
   "source": [
    "del numbers[::2]"
   ]
  },
  {
   "cell_type": "code",
   "execution_count": 8,
   "id": "fab1c0dd-e212-49c0-a646-aed06264979b",
   "metadata": {},
   "outputs": [
    {
     "data": {
      "text/plain": [
       "[3, 5, 7]"
      ]
     },
     "execution_count": 8,
     "metadata": {},
     "output_type": "execute_result"
    }
   ],
   "source": [
    "numbers"
   ]
  },
  {
   "cell_type": "code",
   "execution_count": 9,
   "id": "7b5ae24d-079e-459d-8972-1711a606aefa",
   "metadata": {},
   "outputs": [],
   "source": [
    "del numbers[:]"
   ]
  },
  {
   "cell_type": "code",
   "execution_count": 10,
   "id": "ab2a7f3c-2478-432e-93e3-40c9f3abf1a9",
   "metadata": {},
   "outputs": [
    {
     "data": {
      "text/plain": [
       "[]"
      ]
     },
     "execution_count": 10,
     "metadata": {},
     "output_type": "execute_result"
    }
   ],
   "source": [
    "numbers"
   ]
  },
  {
   "cell_type": "code",
   "execution_count": 11,
   "id": "c9c23a94-806f-4fd7-a53a-c4cb5884f4f3",
   "metadata": {},
   "outputs": [],
   "source": [
    "del numbers"
   ]
  },
  {
   "cell_type": "code",
   "execution_count": 12,
   "id": "392e6d76-0176-4290-8dfb-e892c074be3d",
   "metadata": {},
   "outputs": [
    {
     "ename": "NameError",
     "evalue": "name 'numbers' is not defined",
     "output_type": "error",
     "traceback": [
      "\u001b[1;31m---------------------------------------------------------------------------\u001b[0m",
      "\u001b[1;31mNameError\u001b[0m                                 Traceback (most recent call last)",
      "Input \u001b[1;32mIn [12]\u001b[0m, in \u001b[0;36m<cell line: 1>\u001b[1;34m()\u001b[0m\n\u001b[1;32m----> 1\u001b[0m \u001b[43mnumbers\u001b[49m\n",
      "\u001b[1;31mNameError\u001b[0m: name 'numbers' is not defined"
     ]
    }
   ],
   "source": [
    "numbers"
   ]
  },
  {
   "cell_type": "code",
   "execution_count": 14,
   "id": "2977dded-d3fc-4e88-b62e-8115a7e5fef3",
   "metadata": {},
   "outputs": [],
   "source": [
    "numbers = list(range(1, 16))"
   ]
  },
  {
   "cell_type": "code",
   "execution_count": 16,
   "id": "79ef98cd-8628-48a5-914d-81000ab317d9",
   "metadata": {},
   "outputs": [],
   "source": [
    "del numbers[0:4]"
   ]
  },
  {
   "cell_type": "code",
   "execution_count": 15,
   "id": "dbe89ef2-1c9a-41e1-970f-463d391b4fa4",
   "metadata": {},
   "outputs": [
    {
     "data": {
      "text/plain": [
       "[1, 2, 3, 4, 5, 6, 7, 8, 9, 10, 11, 12, 13, 14, 15]"
      ]
     },
     "execution_count": 15,
     "metadata": {},
     "output_type": "execute_result"
    }
   ],
   "source": [
    "numbers"
   ]
  },
  {
   "cell_type": "code",
   "execution_count": 18,
   "id": "c5f785ce-9c37-496a-89a6-3cb6683e7a41",
   "metadata": {},
   "outputs": [],
   "source": [
    "del numbers[::2]"
   ]
  },
  {
   "cell_type": "code",
   "execution_count": 17,
   "id": "3cdd8029-9735-4a0b-a393-d168144ac9fc",
   "metadata": {},
   "outputs": [
    {
     "data": {
      "text/plain": [
       "[5, 6, 7, 8, 9, 10, 11, 12, 13, 14, 15]"
      ]
     },
     "execution_count": 17,
     "metadata": {},
     "output_type": "execute_result"
    }
   ],
   "source": [
    "numbers"
   ]
  },
  {
   "cell_type": "code",
   "execution_count": 19,
   "id": "2e0ae877-ba4f-4daa-8c95-567bfdbcf076",
   "metadata": {},
   "outputs": [
    {
     "data": {
      "text/plain": [
       "[6, 8, 10, 12, 14]"
      ]
     },
     "execution_count": 19,
     "metadata": {},
     "output_type": "execute_result"
    }
   ],
   "source": [
    "numbers"
   ]
  }
 ],
 "metadata": {
  "kernelspec": {
   "display_name": "Python 3 (ipykernel)",
   "language": "python",
   "name": "python3"
  },
  "language_info": {
   "codemirror_mode": {
    "name": "ipython",
    "version": 3
   },
   "file_extension": ".py",
   "mimetype": "text/x-python",
   "name": "python",
   "nbconvert_exporter": "python",
   "pygments_lexer": "ipython3",
   "version": "3.9.12"
  }
 },
 "nbformat": 4,
 "nbformat_minor": 5
}
