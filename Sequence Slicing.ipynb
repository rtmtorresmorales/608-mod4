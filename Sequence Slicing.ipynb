{
 "cells": [
  {
   "cell_type": "code",
   "execution_count": 30,
   "id": "57905a20-71cf-4a2d-a42b-8a86c2081d8f",
   "metadata": {},
   "outputs": [],
   "source": [
    "numbers = [2, 3 ,5, 7, 11, 13, 17, 19]"
   ]
  },
  {
   "cell_type": "code",
   "execution_count": null,
   "id": "43cef8c8-f20d-4190-8d57-054d34785233",
   "metadata": {},
   "outputs": [],
   "source": [
    "## Module 4 Project Part 1 Ch 5.5  Practice exercises Checkpoint 3  from Ramon Torres"
   ]
  },
  {
   "cell_type": "code",
   "execution_count": 31,
   "id": "36c42da9-1f71-4a91-832a-1eb288982f78",
   "metadata": {},
   "outputs": [
    {
     "data": {
      "text/plain": [
       "[5, 7, 11, 13]"
      ]
     },
     "execution_count": 31,
     "metadata": {},
     "output_type": "execute_result"
    }
   ],
   "source": [
    "numbers[2:6]"
   ]
  },
  {
   "cell_type": "code",
   "execution_count": 32,
   "id": "b637bee4-02a5-4337-bea7-7f9c0eb44f56",
   "metadata": {},
   "outputs": [
    {
     "data": {
      "text/plain": [
       "[2, 3, 5, 7, 11, 13]"
      ]
     },
     "execution_count": 32,
     "metadata": {},
     "output_type": "execute_result"
    }
   ],
   "source": [
    "numbers[:6]"
   ]
  },
  {
   "cell_type": "code",
   "execution_count": 33,
   "id": "90b58d9b-76f4-4c29-a4b5-b5af8f8edc3d",
   "metadata": {},
   "outputs": [
    {
     "data": {
      "text/plain": [
       "[2, 3, 5, 7, 11, 13]"
      ]
     },
     "execution_count": 33,
     "metadata": {},
     "output_type": "execute_result"
    }
   ],
   "source": [
    "numbers[0:6]"
   ]
  },
  {
   "cell_type": "code",
   "execution_count": 34,
   "id": "b359bd97-8ccd-4862-872a-453382833aa6",
   "metadata": {},
   "outputs": [
    {
     "data": {
      "text/plain": [
       "[17, 19]"
      ]
     },
     "execution_count": 34,
     "metadata": {},
     "output_type": "execute_result"
    }
   ],
   "source": [
    "numbers[6:]"
   ]
  },
  {
   "cell_type": "code",
   "execution_count": 35,
   "id": "8d505124-3674-4919-bff8-eeedfce5bb1f",
   "metadata": {
    "tags": []
   },
   "outputs": [
    {
     "data": {
      "text/plain": [
       "[17, 19]"
      ]
     },
     "execution_count": 35,
     "metadata": {},
     "output_type": "execute_result"
    }
   ],
   "source": [
    "numbers[6:len(numbers)]"
   ]
  },
  {
   "cell_type": "code",
   "execution_count": 36,
   "id": "258ea6e7-7b6f-4af6-9a13-8309962ad962",
   "metadata": {},
   "outputs": [
    {
     "data": {
      "text/plain": [
       "[2, 3, 5, 7, 11, 13, 17, 19]"
      ]
     },
     "execution_count": 36,
     "metadata": {},
     "output_type": "execute_result"
    }
   ],
   "source": [
    "numbers[:]"
   ]
  },
  {
   "cell_type": "code",
   "execution_count": 37,
   "id": "071834ac-82af-475a-b251-535f7db4691b",
   "metadata": {},
   "outputs": [
    {
     "data": {
      "text/plain": [
       "[2, 5, 11, 17]"
      ]
     },
     "execution_count": 37,
     "metadata": {},
     "output_type": "execute_result"
    }
   ],
   "source": [
    "numbers[::2]"
   ]
  },
  {
   "cell_type": "code",
   "execution_count": 38,
   "id": "eb531c3e-18fe-473c-b6fd-82603eb0ab14",
   "metadata": {},
   "outputs": [
    {
     "data": {
      "text/plain": [
       "[19, 17, 13, 11, 7, 5, 3, 2]"
      ]
     },
     "execution_count": 38,
     "metadata": {},
     "output_type": "execute_result"
    }
   ],
   "source": [
    "numbers[::-1]"
   ]
  },
  {
   "cell_type": "code",
   "execution_count": 39,
   "id": "e4463e56-6bf0-43d3-a683-3951d7714eb6",
   "metadata": {},
   "outputs": [
    {
     "data": {
      "text/plain": [
       "[19, 17, 13, 11, 7, 5, 3, 2]"
      ]
     },
     "execution_count": 39,
     "metadata": {},
     "output_type": "execute_result"
    }
   ],
   "source": [
    "numbers[-1:-9:-1]"
   ]
  },
  {
   "cell_type": "code",
   "execution_count": 40,
   "id": "74ce93e4-d02e-4db4-b341-ac14fe6710ce",
   "metadata": {},
   "outputs": [],
   "source": [
    "numbers[0:3] = ['two', 'three', 'five']"
   ]
  },
  {
   "cell_type": "code",
   "execution_count": 41,
   "id": "38a7704a-4068-45d3-9d4f-6378b5d3ee8e",
   "metadata": {},
   "outputs": [
    {
     "data": {
      "text/plain": [
       "['two', 'three', 'five', 7, 11, 13, 17, 19]"
      ]
     },
     "execution_count": 41,
     "metadata": {},
     "output_type": "execute_result"
    }
   ],
   "source": [
    "numbers"
   ]
  },
  {
   "cell_type": "code",
   "execution_count": 42,
   "id": "8b80f290-551d-4632-9d0a-e5100f4d709c",
   "metadata": {},
   "outputs": [],
   "source": [
    "numbers[0:3] = []"
   ]
  },
  {
   "cell_type": "code",
   "execution_count": 43,
   "id": "e6063129-4354-4f51-b076-d25b3895cb9b",
   "metadata": {},
   "outputs": [
    {
     "data": {
      "text/plain": [
       "[7, 11, 13, 17, 19]"
      ]
     },
     "execution_count": 43,
     "metadata": {},
     "output_type": "execute_result"
    }
   ],
   "source": [
    "numbers"
   ]
  },
  {
   "cell_type": "code",
   "execution_count": 44,
   "id": "985ca56e-32ab-43c6-956d-17eccb043f0f",
   "metadata": {},
   "outputs": [],
   "source": [
    "numbers = [2, 3 ,5, 7, 11, 13, 17, 19]"
   ]
  },
  {
   "cell_type": "code",
   "execution_count": 45,
   "id": "a3db9a0c-b853-45aa-9f49-edac3ccd32f1",
   "metadata": {},
   "outputs": [],
   "source": [
    "numbers[::2] = [100, 100, 100, 100]"
   ]
  },
  {
   "cell_type": "code",
   "execution_count": 49,
   "id": "3a815939-2bad-4aad-a414-7a65e8237039",
   "metadata": {},
   "outputs": [
    {
     "data": {
      "text/plain": [
       "[100, 3, 100, 7, 100, 13, 100, 19]"
      ]
     },
     "execution_count": 49,
     "metadata": {},
     "output_type": "execute_result"
    }
   ],
   "source": [
    "numbers"
   ]
  },
  {
   "cell_type": "code",
   "execution_count": 50,
   "id": "8671eade-3e58-42a8-8e22-6656df85a04e",
   "metadata": {},
   "outputs": [
    {
     "data": {
      "text/plain": [
       "2546134240064"
      ]
     },
     "execution_count": 50,
     "metadata": {},
     "output_type": "execute_result"
    }
   ],
   "source": [
    "id(numbers)"
   ]
  },
  {
   "cell_type": "code",
   "execution_count": 51,
   "id": "68831285-e8f1-4f51-b225-0cf030878b0f",
   "metadata": {},
   "outputs": [],
   "source": [
    "numbers[:] = []"
   ]
  },
  {
   "cell_type": "code",
   "execution_count": 52,
   "id": "1843b179-33f7-4d46-aabc-6dd1786db709",
   "metadata": {},
   "outputs": [
    {
     "data": {
      "text/plain": [
       "[]"
      ]
     },
     "execution_count": 52,
     "metadata": {},
     "output_type": "execute_result"
    }
   ],
   "source": [
    "numbers"
   ]
  },
  {
   "cell_type": "code",
   "execution_count": 53,
   "id": "affe7908-7a64-48bc-a2c0-bcbaad388fd2",
   "metadata": {},
   "outputs": [
    {
     "data": {
      "text/plain": [
       "2546134240064"
      ]
     },
     "execution_count": 53,
     "metadata": {},
     "output_type": "execute_result"
    }
   ],
   "source": [
    "id(numbers)"
   ]
  },
  {
   "cell_type": "code",
   "execution_count": 54,
   "id": "d91949ef-db91-447a-8737-bb9487931ddc",
   "metadata": {},
   "outputs": [],
   "source": [
    "numbers = []"
   ]
  },
  {
   "cell_type": "code",
   "execution_count": 55,
   "id": "fc6fb75e-1bce-482e-81cb-2ad8403ece6d",
   "metadata": {},
   "outputs": [
    {
     "data": {
      "text/plain": [
       "[]"
      ]
     },
     "execution_count": 55,
     "metadata": {},
     "output_type": "execute_result"
    }
   ],
   "source": [
    "numbers"
   ]
  },
  {
   "cell_type": "code",
   "execution_count": 56,
   "id": "445b0bc4-0ac7-43c6-8f62-ed71f7f78cf9",
   "metadata": {},
   "outputs": [
    {
     "data": {
      "text/plain": [
       "2546133295360"
      ]
     },
     "execution_count": 56,
     "metadata": {},
     "output_type": "execute_result"
    }
   ],
   "source": [
    "id(numbers)"
   ]
  },
  {
   "cell_type": "code",
   "execution_count": null,
   "id": "4ad9ba3a-df81-4cbe-b87c-3ec39214b6b6",
   "metadata": {},
   "outputs": [],
   "source": [
    "## Module 4 Project Part 1 Ch 5.5  Selfcheck 5.5. Number 3 Checkpoint 3  from Ramon Torres"
   ]
  },
  {
   "cell_type": "code",
   "execution_count": 59,
   "id": "6db22db9-7af4-4e98-a531-8de3ef9c0b3e",
   "metadata": {},
   "outputs": [],
   "source": [
    "numbers = list(range(1,16))"
   ]
  },
  {
   "cell_type": "code",
   "execution_count": 60,
   "id": "6fa1413a-01a1-4a0b-817b-cc22eaf2b9fe",
   "metadata": {},
   "outputs": [
    {
     "data": {
      "text/plain": [
       "[1, 2, 3, 4, 5, 6, 7, 8, 9, 10, 11, 12, 13, 14, 15]"
      ]
     },
     "execution_count": 60,
     "metadata": {},
     "output_type": "execute_result"
    }
   ],
   "source": [
    "numbers"
   ]
  },
  {
   "cell_type": "code",
   "execution_count": 61,
   "id": "b435f21d-e033-4b3f-9cc5-7973141e5615",
   "metadata": {},
   "outputs": [
    {
     "data": {
      "text/plain": [
       "[2, 4, 6, 8, 10, 12, 14]"
      ]
     },
     "execution_count": 61,
     "metadata": {},
     "output_type": "execute_result"
    }
   ],
   "source": [
    "numbers[1:len(numbers):2]"
   ]
  },
  {
   "cell_type": "code",
   "execution_count": 62,
   "id": "fd4f944b-03ea-4acb-89f1-13ed2f3b020f",
   "metadata": {},
   "outputs": [],
   "source": [
    "numbers[5:10] = [0]*len(numbers[5:10])"
   ]
  },
  {
   "cell_type": "code",
   "execution_count": 63,
   "id": "2c64f95f-878f-4360-8a1c-d912102503f8",
   "metadata": {},
   "outputs": [
    {
     "data": {
      "text/plain": [
       "[1, 2, 3, 4, 5, 0, 0, 0, 0, 0, 11, 12, 13, 14, 15]"
      ]
     },
     "execution_count": 63,
     "metadata": {},
     "output_type": "execute_result"
    }
   ],
   "source": [
    "numbers"
   ]
  },
  {
   "cell_type": "code",
   "execution_count": 64,
   "id": "fe539f05-4004-4960-b6ae-2dd9529b5c7e",
   "metadata": {},
   "outputs": [],
   "source": [
    "numbers[5:]  = []"
   ]
  },
  {
   "cell_type": "code",
   "execution_count": 65,
   "id": "5c05ae64-20c2-4b17-a20f-3e03ba862ed9",
   "metadata": {},
   "outputs": [
    {
     "data": {
      "text/plain": [
       "[1, 2, 3, 4, 5]"
      ]
     },
     "execution_count": 65,
     "metadata": {},
     "output_type": "execute_result"
    }
   ],
   "source": [
    "numbers"
   ]
  },
  {
   "cell_type": "code",
   "execution_count": 66,
   "id": "723e5578-34ee-4a3e-aed7-9bc2d1b4ac97",
   "metadata": {},
   "outputs": [],
   "source": [
    "numbers[:]  = []"
   ]
  },
  {
   "cell_type": "code",
   "execution_count": 67,
   "id": "58593c8b-6f79-498f-b1d1-561622c6e45b",
   "metadata": {},
   "outputs": [
    {
     "data": {
      "text/plain": [
       "[]"
      ]
     },
     "execution_count": 67,
     "metadata": {},
     "output_type": "execute_result"
    }
   ],
   "source": [
    "numbers"
   ]
  }
 ],
 "metadata": {
  "kernelspec": {
   "display_name": "Python 3 (ipykernel)",
   "language": "python",
   "name": "python3"
  },
  "language_info": {
   "codemirror_mode": {
    "name": "ipython",
    "version": 3
   },
   "file_extension": ".py",
   "mimetype": "text/x-python",
   "name": "python",
   "nbconvert_exporter": "python",
   "pygments_lexer": "ipython3",
   "version": "3.9.12"
  }
 },
 "nbformat": 4,
 "nbformat_minor": 5
}
