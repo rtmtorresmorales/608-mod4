{
 "cells": [
  {
   "cell_type": "code",
   "execution_count": null,
   "id": "344a3b04-f736-488c-ae28-065b7d9af40a",
   "metadata": {},
   "outputs": [],
   "source": [
    "# Section 5. 9 Ramon Torres"
   ]
  },
  {
   "cell_type": "code",
   "execution_count": 1,
   "id": "edee7732-0eb2-44e5-9d8c-695550ca5b15",
   "metadata": {},
   "outputs": [],
   "source": [
    "numbers = [3,7,1,4,2,8,5,6,]"
   ]
  },
  {
   "cell_type": "code",
   "execution_count": 2,
   "id": "904a58c4-a7c6-45cf-8db4-50f0b8f9eaa8",
   "metadata": {},
   "outputs": [
    {
     "data": {
      "text/plain": [
       "6"
      ]
     },
     "execution_count": 2,
     "metadata": {},
     "output_type": "execute_result"
    }
   ],
   "source": [
    "numbers.index(5)"
   ]
  },
  {
   "cell_type": "code",
   "execution_count": 3,
   "id": "bccd3a8a-86fd-499b-8ab7-b85908473379",
   "metadata": {},
   "outputs": [],
   "source": [
    "numbers *=2"
   ]
  },
  {
   "cell_type": "code",
   "execution_count": 4,
   "id": "0a798ede-9008-49f6-a3ff-d3dd6adaee44",
   "metadata": {},
   "outputs": [
    {
     "data": {
      "text/plain": [
       "[3, 7, 1, 4, 2, 8, 5, 6, 3, 7, 1, 4, 2, 8, 5, 6]"
      ]
     },
     "execution_count": 4,
     "metadata": {},
     "output_type": "execute_result"
    }
   ],
   "source": [
    "numbers"
   ]
  },
  {
   "cell_type": "code",
   "execution_count": 5,
   "id": "9754a929-45b7-4112-8061-237c78149ff4",
   "metadata": {},
   "outputs": [
    {
     "data": {
      "text/plain": [
       "14"
      ]
     },
     "execution_count": 5,
     "metadata": {},
     "output_type": "execute_result"
    }
   ],
   "source": [
    "numbers.index(5,7)"
   ]
  },
  {
   "cell_type": "code",
   "execution_count": 6,
   "id": "2e526d19-a36e-4ad0-bb27-805ee8014824",
   "metadata": {},
   "outputs": [
    {
     "data": {
      "text/plain": [
       "14"
      ]
     },
     "execution_count": 6,
     "metadata": {},
     "output_type": "execute_result"
    }
   ],
   "source": [
    "numbers.index(5,7, len(numbers))"
   ]
  },
  {
   "cell_type": "code",
   "execution_count": 7,
   "id": "c71e32ef-389b-44d9-9148-f7d37ce41064",
   "metadata": {},
   "outputs": [
    {
     "data": {
      "text/plain": [
       "1"
      ]
     },
     "execution_count": 7,
     "metadata": {},
     "output_type": "execute_result"
    }
   ],
   "source": [
    "numbers.index(7,0,4)"
   ]
  },
  {
   "cell_type": "code",
   "execution_count": null,
   "id": "31adfd46-b453-49e7-b7c4-317830ec84f5",
   "metadata": {},
   "outputs": [],
   "source": []
  },
  {
   "cell_type": "code",
   "execution_count": 8,
   "id": "95cb956d-d78c-42d4-86ab-e7b703222fd8",
   "metadata": {},
   "outputs": [
    {
     "data": {
      "text/plain": [
       "False"
      ]
     },
     "execution_count": 8,
     "metadata": {},
     "output_type": "execute_result"
    }
   ],
   "source": [
    "1000 in numbers"
   ]
  },
  {
   "cell_type": "code",
   "execution_count": 9,
   "id": "8836a8a8-0a91-4f4f-b47a-c5520228e214",
   "metadata": {},
   "outputs": [
    {
     "data": {
      "text/plain": [
       "True"
      ]
     },
     "execution_count": 9,
     "metadata": {},
     "output_type": "execute_result"
    }
   ],
   "source": [
    "5 in numbers"
   ]
  },
  {
   "cell_type": "code",
   "execution_count": 11,
   "id": "d1dfcac6-7faa-49d8-a803-29849ac8eb3c",
   "metadata": {},
   "outputs": [
    {
     "data": {
      "text/plain": [
       "True"
      ]
     },
     "execution_count": 11,
     "metadata": {},
     "output_type": "execute_result"
    }
   ],
   "source": [
    "1000 not in numbers"
   ]
  },
  {
   "cell_type": "code",
   "execution_count": 12,
   "id": "934e2b03-f931-4812-82e1-0d7fd2b4d828",
   "metadata": {},
   "outputs": [
    {
     "data": {
      "text/plain": [
       "False"
      ]
     },
     "execution_count": 12,
     "metadata": {},
     "output_type": "execute_result"
    }
   ],
   "source": [
    "5 not in numbers"
   ]
  },
  {
   "cell_type": "code",
   "execution_count": 13,
   "id": "7ecf1dbe-2d66-43f4-9ef4-017a8c8862a9",
   "metadata": {},
   "outputs": [],
   "source": [
    "key =1000"
   ]
  },
  {
   "cell_type": "code",
   "execution_count": null,
   "id": "d3a68614-4ef0-457e-b3a8-ed8986768c05",
   "metadata": {},
   "outputs": [],
   "source": [
    "if key in numbers:\n",
    "    print(f'found {key} at index {numbers.index(key)}')\n",
    "    else:\n",
    "        print(f'{key} not found')"
   ]
  },
  {
   "cell_type": "code",
   "execution_count": null,
   "id": "f587b1a4-4423-4eec-afbd-7496d01d41ee",
   "metadata": {},
   "outputs": [],
   "source": [
    "1000 not found"
   ]
  },
  {
   "cell_type": "code",
   "execution_count": 1,
   "id": "2ac2c017-79d2-48fa-b121-fbee1da68b71",
   "metadata": {},
   "outputs": [],
   "source": [
    "numbers = [67,12,46,43,13]"
   ]
  },
  {
   "cell_type": "code",
   "execution_count": 2,
   "id": "8d773b2b-528e-4740-bf09-5b4674de71bc",
   "metadata": {},
   "outputs": [
    {
     "data": {
      "text/plain": [
       "3"
      ]
     },
     "execution_count": 2,
     "metadata": {},
     "output_type": "execute_result"
    }
   ],
   "source": [
    "numbers.index(43)"
   ]
  },
  {
   "cell_type": "code",
   "execution_count": null,
   "id": "d3dea5d9-8ef7-47d3-aba0-a1cba80e8e01",
   "metadata": {},
   "outputs": [],
   "source": [
    "if 44 in numbers:\n",
    "    print(f'found 44 at index : {numbers.index(44)}')\n",
    "    else:\n",
    "        print(f'44 not found')"
   ]
  },
  {
   "cell_type": "code",
   "execution_count": null,
   "id": "8bc50ab2-250a-4c16-bda7-fe514564ed3c",
   "metadata": {},
   "outputs": [],
   "source": [
    "44 not found"
   ]
  }
 ],
 "metadata": {
  "kernelspec": {
   "display_name": "Python 3 (ipykernel)",
   "language": "python",
   "name": "python3"
  },
  "language_info": {
   "codemirror_mode": {
    "name": "ipython",
    "version": 3
   },
   "file_extension": ".py",
   "mimetype": "text/x-python",
   "name": "python",
   "nbconvert_exporter": "python",
   "pygments_lexer": "ipython3",
   "version": "3.9.12"
  }
 },
 "nbformat": 4,
 "nbformat_minor": 5
}
