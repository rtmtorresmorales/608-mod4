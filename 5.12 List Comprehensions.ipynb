{
 "cells": [
  {
   "cell_type": "code",
   "execution_count": 24,
   "id": "1996377a-c66c-4ba3-909f-8e3f357f0e88",
   "metadata": {},
   "outputs": [],
   "source": [
    "# Section 5.12 Ramon Torres"
   ]
  },
  {
   "cell_type": "code",
   "execution_count": null,
   "id": "beac1573-678c-40e1-89a9-abac0fed9c5d",
   "metadata": {},
   "outputs": [],
   "source": [
    "list1 =[]"
   ]
  },
  {
   "cell_type": "code",
   "execution_count": 3,
   "id": "a53bdd16-7357-4248-93b2-8459dd428bfd",
   "metadata": {},
   "outputs": [],
   "source": [
    "for item in range(1,6):\n",
    "    list1.append(item)"
   ]
  },
  {
   "cell_type": "code",
   "execution_count": 4,
   "id": "f515ebc4-7113-40f4-b7d6-65b05dab1c1a",
   "metadata": {},
   "outputs": [
    {
     "data": {
      "text/plain": [
       "[1, 2, 3, 4, 5]"
      ]
     },
     "execution_count": 4,
     "metadata": {},
     "output_type": "execute_result"
    }
   ],
   "source": [
    "list1"
   ]
  },
  {
   "cell_type": "code",
   "execution_count": 6,
   "id": "ca58b682-072c-462b-8636-4d981abda474",
   "metadata": {},
   "outputs": [],
   "source": [
    "list2 = [item for item in range(1,6)]"
   ]
  },
  {
   "cell_type": "code",
   "execution_count": 7,
   "id": "6763d1db-d2d4-4283-a85a-a73c734e864f",
   "metadata": {},
   "outputs": [
    {
     "data": {
      "text/plain": [
       "[1, 2, 3, 4, 5]"
      ]
     },
     "execution_count": 7,
     "metadata": {},
     "output_type": "execute_result"
    }
   ],
   "source": [
    "list2"
   ]
  },
  {
   "cell_type": "code",
   "execution_count": 8,
   "id": "929bc096-609a-4c87-92d8-296a5d13407b",
   "metadata": {},
   "outputs": [],
   "source": [
    "list3 = [item **3 for item in range(1, 6)]"
   ]
  },
  {
   "cell_type": "code",
   "execution_count": 9,
   "id": "330d8ce0-8685-460d-9829-60a44d8a147b",
   "metadata": {},
   "outputs": [
    {
     "data": {
      "text/plain": [
       "[1, 8, 27, 64, 125]"
      ]
     },
     "execution_count": 9,
     "metadata": {},
     "output_type": "execute_result"
    }
   ],
   "source": [
    "list3 "
   ]
  },
  {
   "cell_type": "code",
   "execution_count": 10,
   "id": "b23c6c01-0385-477f-9f21-4ea8390bd127",
   "metadata": {},
   "outputs": [],
   "source": [
    "list4 = [item for item in range(1,11) if item%2 ==0]"
   ]
  },
  {
   "cell_type": "code",
   "execution_count": 11,
   "id": "68575891-c036-4fbe-a791-57d5b8ad30a3",
   "metadata": {},
   "outputs": [
    {
     "data": {
      "text/plain": [
       "[2, 4, 6, 8, 10]"
      ]
     },
     "execution_count": 11,
     "metadata": {},
     "output_type": "execute_result"
    }
   ],
   "source": [
    "list4"
   ]
  },
  {
   "cell_type": "code",
   "execution_count": 13,
   "id": "0578398f-e01f-4d70-bd5e-a0745e7140b9",
   "metadata": {},
   "outputs": [],
   "source": [
    "colors = ['red', 'orange', 'yellow', 'green', 'blue']"
   ]
  },
  {
   "cell_type": "code",
   "execution_count": 14,
   "id": "af5862ed-078a-4909-baac-0495f6e8df5a",
   "metadata": {},
   "outputs": [],
   "source": [
    "colors2 = [item.upper() for item in colors]"
   ]
  },
  {
   "cell_type": "code",
   "execution_count": 15,
   "id": "e122f6a4-912d-47f9-9925-16a1dfbc6d81",
   "metadata": {},
   "outputs": [
    {
     "data": {
      "text/plain": [
       "['RED', 'ORANGE', 'YELLOW', 'GREEN', 'BLUE']"
      ]
     },
     "execution_count": 15,
     "metadata": {},
     "output_type": "execute_result"
    }
   ],
   "source": [
    "colors2"
   ]
  },
  {
   "cell_type": "code",
   "execution_count": 16,
   "id": "2f736ece-b2ec-4723-9aa4-44925b9cb10c",
   "metadata": {},
   "outputs": [
    {
     "data": {
      "text/plain": [
       "['red', 'orange', 'yellow', 'green', 'blue']"
      ]
     },
     "execution_count": 16,
     "metadata": {},
     "output_type": "execute_result"
    }
   ],
   "source": [
    "colors"
   ]
  },
  {
   "cell_type": "code",
   "execution_count": 17,
   "id": "392603f9-72f6-4f15-9c44-8dc18c05e9d5",
   "metadata": {},
   "outputs": [],
   "source": [
    "## Self Check 5.12"
   ]
  },
  {
   "cell_type": "code",
   "execution_count": 20,
   "id": "bf0deed3-c220-4ddb-b58b-0da1cb41ea97",
   "metadata": {},
   "outputs": [],
   "source": [
    "cubes = [(x, x**3) for x in range(1,6)]"
   ]
  },
  {
   "cell_type": "code",
   "execution_count": 21,
   "id": "2c50cf53-8dde-45fc-9da3-4219f1eb4046",
   "metadata": {},
   "outputs": [
    {
     "data": {
      "text/plain": [
       "[(1, 1), (2, 8), (3, 27), (4, 64), (5, 125)]"
      ]
     },
     "execution_count": 21,
     "metadata": {},
     "output_type": "execute_result"
    }
   ],
   "source": [
    "cubes"
   ]
  },
  {
   "cell_type": "code",
   "execution_count": 22,
   "id": "c589a4f7-a079-4ba5-8dd0-b1b355d12e5c",
   "metadata": {},
   "outputs": [],
   "source": [
    "multiples = [x for x in range(3,30,3)]"
   ]
  },
  {
   "cell_type": "code",
   "execution_count": 23,
   "id": "d2173184-6b90-42f7-bf91-1395f6479d74",
   "metadata": {},
   "outputs": [
    {
     "data": {
      "text/plain": [
       "[3, 6, 9, 12, 15, 18, 21, 24, 27]"
      ]
     },
     "execution_count": 23,
     "metadata": {},
     "output_type": "execute_result"
    }
   ],
   "source": [
    "multiples"
   ]
  }
 ],
 "metadata": {
  "kernelspec": {
   "display_name": "Python 3 (ipykernel)",
   "language": "python",
   "name": "python3"
  },
  "language_info": {
   "codemirror_mode": {
    "name": "ipython",
    "version": 3
   },
   "file_extension": ".py",
   "mimetype": "text/x-python",
   "name": "python",
   "nbconvert_exporter": "python",
   "pygments_lexer": "ipython3",
   "version": "3.9.12"
  }
 },
 "nbformat": 4,
 "nbformat_minor": 5
}
