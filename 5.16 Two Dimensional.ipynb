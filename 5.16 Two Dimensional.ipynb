{
 "cells": [
  {
   "cell_type": "code",
   "execution_count": 77,
   "id": "86965c52-1ab7-428b-883a-223e918ed69a",
   "metadata": {},
   "outputs": [],
   "source": [
    "### 5.16  Ramon Torres"
   ]
  },
  {
   "cell_type": "code",
   "execution_count": 5,
   "id": "6bf247ad-c88f-4a23-9330-64a8f29dc25d",
   "metadata": {},
   "outputs": [],
   "source": [
    "a = [[77, 68, 86, 73], [96,87,89,81], [70,90,86,81]]"
   ]
  },
  {
   "cell_type": "code",
   "execution_count": 6,
   "id": "7de83450-25d6-487c-bf2d-77aa5b58f53a",
   "metadata": {},
   "outputs": [
    {
     "name": "stdout",
     "output_type": "stream",
     "text": [
      "77\n",
      "68\n",
      "86\n",
      "73\n",
      "96\n",
      "87\n",
      "89\n",
      "81\n",
      "70\n",
      "90\n",
      "86\n",
      "81\n"
     ]
    }
   ],
   "source": [
    "for row in a:\n",
    "    for item in row:\n",
    "        print(item, end='')\n",
    "        print()"
   ]
  },
  {
   "cell_type": "code",
   "execution_count": 12,
   "id": "210bdef5-0ff9-431d-843f-db092cdb054a",
   "metadata": {},
   "outputs": [],
   "source": [
    "a = [[77,68,86,73], \n",
    "     [96,87,89,81],\n",
    "     [70,90,86,81]]"
   ]
  },
  {
   "cell_type": "code",
   "execution_count": 13,
   "id": "542642a6-0489-47e3-a7b8-d9bf5d6b2f0d",
   "metadata": {},
   "outputs": [
    {
     "name": "stdout",
     "output_type": "stream",
     "text": [
      "77\n",
      "68\n",
      "86\n",
      "73\n",
      "96\n",
      "87\n",
      "89\n",
      "81\n",
      "70\n",
      "90\n",
      "86\n",
      "81\n"
     ]
    }
   ],
   "source": [
    "for row in a:\n",
    "    for item in row:\n",
    "        print(item, end='')\n",
    "        print()"
   ]
  },
  {
   "cell_type": "code",
   "execution_count": 18,
   "id": "96afda78-bd70-41c1-ba74-4c47f2602c99",
   "metadata": {},
   "outputs": [
    {
     "name": "stdout",
     "output_type": "stream",
     "text": [
      "a[0][0]=item77\n",
      "a[0][1]=item68\n",
      "a[0][2]=item86\n",
      "a[0][3]=item73\n",
      "a[1][0]=item96\n",
      "a[1][1]=item87\n",
      "a[1][2]=item89\n",
      "a[1][3]=item81\n",
      "a[2][0]=item70\n",
      "a[2][1]=item90\n",
      "a[2][2]=item86\n",
      "a[2][3]=item81\n"
     ]
    }
   ],
   "source": [
    "for i, row in enumerate(a):\n",
    "    for j, item in enumerate(row):\n",
    "        print(f'a[{i}][{j}]=item{item}', end='')\n",
    "        print()"
   ]
  },
  {
   "cell_type": "code",
   "execution_count": 35,
   "id": "7c0b546b-610d-49fa-b2f9-4a114f79f4a6",
   "metadata": {},
   "outputs": [],
   "source": [
    "sales = [[77, 68], [96,87], [70,90]]"
   ]
  },
  {
   "cell_type": "code",
   "execution_count": 36,
   "id": "2b06f139-2b09-4a3f-99ad-a48c8fc17e91",
   "metadata": {},
   "outputs": [],
   "source": [
    "for row in range(len(sales)):\n",
    "    for col in range(len(sales[row])):\n",
    "        sales[row][col] = 0 \n",
    "         \n",
    "        "
   ]
  },
  {
   "cell_type": "code",
   "execution_count": 37,
   "id": "b88b8d70-6173-4af1-8570-da645683ef95",
   "metadata": {},
   "outputs": [
    {
     "name": "stdout",
     "output_type": "stream",
     "text": [
      "sales[2][1]=item81"
     ]
    }
   ],
   "source": [
    "print(f'sales[{row}][{col}]=item{item}', end='')"
   ]
  },
  {
   "cell_type": "code",
   "execution_count": 38,
   "id": "6f9d8821-9ba6-40ba-bdcb-ec66be99aca3",
   "metadata": {},
   "outputs": [
    {
     "name": "stdout",
     "output_type": "stream",
     "text": [
      "[[0, 0], [0, 0], [0, 0]]\n"
     ]
    }
   ],
   "source": [
    " print(sales)"
   ]
  },
  {
   "cell_type": "code",
   "execution_count": 66,
   "id": "15f2ca81-7f16-4c56-a66e-47850b29b433",
   "metadata": {},
   "outputs": [],
   "source": [
    "t = [[10, 7, 3,], [20, 4, 17]]"
   ]
  },
  {
   "cell_type": "code",
   "execution_count": 67,
   "id": "2c281c6c-f360-415e-b6e5-3fdcf1b9d154",
   "metadata": {},
   "outputs": [],
   "source": [
    "total = 0"
   ]
  },
  {
   "cell_type": "code",
   "execution_count": 68,
   "id": "d8ce157c-7e94-4889-8cdb-730d74a50793",
   "metadata": {},
   "outputs": [],
   "source": [
    "items = 0"
   ]
  },
  {
   "cell_type": "code",
   "execution_count": 69,
   "id": "ed20cce3-8665-4bd2-9c07-7b633b584942",
   "metadata": {},
   "outputs": [],
   "source": [
    "for row in t:\n",
    "    for item in row:\n",
    "        total += item\n",
    "        items += 1"
   ]
  },
  {
   "cell_type": "code",
   "execution_count": 71,
   "id": "309c3aaa-8ed4-403a-a880-20bc0abd14c4",
   "metadata": {},
   "outputs": [
    {
     "data": {
      "text/plain": [
       "3.588235294117647"
      ]
     },
     "execution_count": 71,
     "metadata": {},
     "output_type": "execute_result"
    }
   ],
   "source": [
    "total /item"
   ]
  },
  {
   "cell_type": "code",
   "execution_count": 72,
   "id": "dbf103f5-de48-463a-ae3d-f0d753c6d30d",
   "metadata": {},
   "outputs": [],
   "source": [
    "total = 0"
   ]
  },
  {
   "cell_type": "code",
   "execution_count": 73,
   "id": "00bf082b-6799-4a67-bc94-9d7ff5b0a1f9",
   "metadata": {},
   "outputs": [],
   "source": [
    "items = 0"
   ]
  },
  {
   "cell_type": "code",
   "execution_count": 74,
   "id": "2cf9ef56-769c-40e3-8f02-5650128f39a3",
   "metadata": {},
   "outputs": [],
   "source": [
    "for row in t:\n",
    "    for item in row:\n",
    "        total += sum(row)\n",
    "        items += len(row)"
   ]
  },
  {
   "cell_type": "code",
   "execution_count": 75,
   "id": "74307053-b863-446b-b38d-8600d2309db7",
   "metadata": {},
   "outputs": [
    {
     "data": {
      "text/plain": [
       "10.166666666666666"
      ]
     },
     "execution_count": 75,
     "metadata": {},
     "output_type": "execute_result"
    }
   ],
   "source": [
    "total /items"
   ]
  },
  {
   "cell_type": "code",
   "execution_count": 76,
   "id": "f75cbbe0-e8b1-43b7-a9ca-cda3c0ab1434",
   "metadata": {},
   "outputs": [],
   "source": [
    "## Ramon Torres"
   ]
  }
 ],
 "metadata": {
  "kernelspec": {
   "display_name": "Python 3 (ipykernel)",
   "language": "python",
   "name": "python3"
  },
  "language_info": {
   "codemirror_mode": {
    "name": "ipython",
    "version": 3
   },
   "file_extension": ".py",
   "mimetype": "text/x-python",
   "name": "python",
   "nbconvert_exporter": "python",
   "pygments_lexer": "ipython3",
   "version": "3.9.12"
  }
 },
 "nbformat": 4,
 "nbformat_minor": 5
}
