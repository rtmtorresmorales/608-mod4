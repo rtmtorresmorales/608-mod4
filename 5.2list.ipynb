{
 "cells": [
  {
   "cell_type": "code",
   "execution_count": 42,
   "id": "c98bf18e-6f1d-476c-9bfc-43a35b606d85",
   "metadata": {},
   "outputs": [],
   "source": [
    "## Module 4 Project Part 1 Ch 5  Checkpoint 1  from Ramon Torres"
   ]
  },
  {
   "cell_type": "code",
   "execution_count": null,
   "id": "b04f4ac8-6b74-4450-84f7-a4d036aa2d6f",
   "metadata": {},
   "outputs": [],
   "source": [
    "## Item We will leans lists by working though Section 5.2, beginning with creating a list c of integers. "
   ]
  },
  {
   "cell_type": "code",
   "execution_count": 3,
   "id": "7f5efc2c-e738-4905-bf28-e1a98fd91e5d",
   "metadata": {},
   "outputs": [],
   "source": [
    "c = [-45,6,0,72,1543]"
   ]
  },
  {
   "cell_type": "code",
   "execution_count": 4,
   "id": "75c51de4-1751-4d14-bfaa-44ab7584d57b",
   "metadata": {},
   "outputs": [
    {
     "data": {
      "text/plain": [
       "[-45, 6, 0, 72, 1543]"
      ]
     },
     "execution_count": 4,
     "metadata": {},
     "output_type": "execute_result"
    }
   ],
   "source": [
    "c"
   ]
  },
  {
   "cell_type": "code",
   "execution_count": null,
   "id": "caae2e16-b46f-4a2e-a014-967e2486b741",
   "metadata": {},
   "outputs": [],
   "source": [
    "## Lists are zero-based - the index of an item is the offset or difference from the first item.  Get the value of the first item (offset/index = 0) with c[0]"
   ]
  },
  {
   "cell_type": "code",
   "execution_count": 5,
   "id": "e7ec9995-0c0c-4dc5-8e70-bb68d139ffe0",
   "metadata": {},
   "outputs": [
    {
     "data": {
      "text/plain": [
       "-45"
      ]
     },
     "execution_count": 5,
     "metadata": {},
     "output_type": "execute_result"
    }
   ],
   "source": [
    "c[0]"
   ]
  },
  {
   "cell_type": "code",
   "execution_count": 6,
   "id": "ace0dd82-7867-47fb-bba8-2f6cf90d49c1",
   "metadata": {
    "tags": []
   },
   "outputs": [
    {
     "data": {
      "text/plain": [
       "72"
      ]
     },
     "execution_count": 6,
     "metadata": {},
     "output_type": "execute_result"
    }
   ],
   "source": [
    "c[3]"
   ]
  },
  {
   "cell_type": "code",
   "execution_count": null,
   "id": "06866aea-bc28-49f6-bede-7c32cdd95df7",
   "metadata": {},
   "outputs": [],
   "source": [
    "## Get the value of the fifth item with c[4] and others for fun"
   ]
  },
  {
   "cell_type": "code",
   "execution_count": 7,
   "id": "184e7565-e459-4f1b-bb39-8b9903f90f25",
   "metadata": {
    "tags": []
   },
   "outputs": [
    {
     "data": {
      "text/plain": [
       "1543"
      ]
     },
     "execution_count": 7,
     "metadata": {},
     "output_type": "execute_result"
    }
   ],
   "source": [
    "c[4]"
   ]
  },
  {
   "cell_type": "code",
   "execution_count": 8,
   "id": "6949c0db-53f3-4284-adc1-f9f1a333475c",
   "metadata": {},
   "outputs": [
    {
     "data": {
      "text/plain": [
       "0"
      ]
     },
     "execution_count": 8,
     "metadata": {},
     "output_type": "execute_result"
    }
   ],
   "source": [
    "c[2]"
   ]
  },
  {
   "cell_type": "code",
   "execution_count": 9,
   "id": "6e0fff5f-0db8-4ffe-972c-0ef52d1c4da4",
   "metadata": {},
   "outputs": [
    {
     "data": {
      "text/plain": [
       "-45"
      ]
     },
     "execution_count": 9,
     "metadata": {},
     "output_type": "execute_result"
    }
   ],
   "source": [
    "c[0]"
   ]
  },
  {
   "cell_type": "code",
   "execution_count": 10,
   "id": "cfad91f1-1c65-4623-8cd9-8bc4df6db696",
   "metadata": {},
   "outputs": [
    {
     "data": {
      "text/plain": [
       "1543"
      ]
     },
     "execution_count": 10,
     "metadata": {},
     "output_type": "execute_result"
    }
   ],
   "source": [
    "c[4]"
   ]
  },
  {
   "cell_type": "code",
   "execution_count": null,
   "id": "1f8f8a16-b972-4e38-b916-76c43732c414",
   "metadata": {},
   "outputs": [],
   "source": [
    "## Get the value of the fifth Pass in the list to the built in function len() to count the number of items in the list."
   ]
  },
  {
   "cell_type": "code",
   "execution_count": 11,
   "id": "80f229fc-0410-413f-b3e3-c96f484c5841",
   "metadata": {},
   "outputs": [
    {
     "data": {
      "text/plain": [
       "5"
      ]
     },
     "execution_count": 11,
     "metadata": {},
     "output_type": "execute_result"
    }
   ],
   "source": [
    "len (c)"
   ]
  },
  {
   "cell_type": "code",
   "execution_count": null,
   "id": "692d09c2-46c6-486c-a111-ea03ff5c1944",
   "metadata": {},
   "outputs": [],
   "source": [
    "## Get the last item in the list using a negative index, c[-1]"
   ]
  },
  {
   "cell_type": "code",
   "execution_count": 12,
   "id": "026ab11e-27e8-49c7-8c12-54f04ebe8509",
   "metadata": {},
   "outputs": [
    {
     "data": {
      "text/plain": [
       "1543"
      ]
     },
     "execution_count": 12,
     "metadata": {},
     "output_type": "execute_result"
    }
   ],
   "source": [
    "c[-1]"
   ]
  },
  {
   "cell_type": "code",
   "execution_count": null,
   "id": "4ab4fe06-86ea-45ae-aeee-04795536d8d6",
   "metadata": {},
   "outputs": [],
   "source": [
    "## Try to access an index longer than the list, e.g. c[100] - what happens? "
   ]
  },
  {
   "cell_type": "code",
   "execution_count": 13,
   "id": "0aa31a54-f6de-4ca3-ac9c-2dbaf7b7e715",
   "metadata": {},
   "outputs": [
    {
     "ename": "IndexError",
     "evalue": "list index out of range",
     "output_type": "error",
     "traceback": [
      "\u001b[1;31m---------------------------------------------------------------------------\u001b[0m",
      "\u001b[1;31mIndexError\u001b[0m                                Traceback (most recent call last)",
      "Input \u001b[1;32mIn [13]\u001b[0m, in \u001b[0;36m<cell line: 1>\u001b[1;34m()\u001b[0m\n\u001b[1;32m----> 1\u001b[0m \u001b[43mc\u001b[49m\u001b[43m[\u001b[49m\u001b[38;5;241;43m100\u001b[39;49m\u001b[43m]\u001b[49m\n",
      "\u001b[1;31mIndexError\u001b[0m: list index out of range"
     ]
    }
   ],
   "source": [
    "c[100]"
   ]
  },
  {
   "cell_type": "code",
   "execution_count": null,
   "id": "d5a71779-d32b-41ac-97e5-bae1f04f5ee5",
   "metadata": {},
   "outputs": [],
   "source": [
    "## Add the first three items in the list with c[0] +c[1] + c[2]."
   ]
  },
  {
   "cell_type": "code",
   "execution_count": 15,
   "id": "86876a8e-5143-465c-9d0f-3877e61d800c",
   "metadata": {
    "tags": []
   },
   "outputs": [],
   "source": [
    "d = c[0]+c[1]+c[2]"
   ]
  },
  {
   "cell_type": "code",
   "execution_count": 16,
   "id": "c8095072-2900-4138-bc2c-9fb11a03e641",
   "metadata": {},
   "outputs": [
    {
     "data": {
      "text/plain": [
       "-39"
      ]
     },
     "execution_count": 16,
     "metadata": {},
     "output_type": "execute_result"
    }
   ],
   "source": [
    "d"
   ]
  },
  {
   "cell_type": "code",
   "execution_count": null,
   "id": "aaca7780-fc7d-4310-9ecd-92fe632d7577",
   "metadata": {
    "tags": []
   },
   "outputs": [],
   "source": [
    "## Append items with +="
   ]
  },
  {
   "cell_type": "code",
   "execution_count": 17,
   "id": "e9a2d46d-d428-4159-93b1-cb9f069a9643",
   "metadata": {},
   "outputs": [],
   "source": [
    "a_list = []"
   ]
  },
  {
   "cell_type": "code",
   "execution_count": 18,
   "id": "1c5662b3-ebce-4766-a241-a7c412cd2812",
   "metadata": {},
   "outputs": [],
   "source": [
    "for number in range (1,6): a_list += [number]"
   ]
  },
  {
   "cell_type": "code",
   "execution_count": 19,
   "id": "6fefc319-dee1-4cc0-b53f-6dd77ec5a834",
   "metadata": {},
   "outputs": [
    {
     "data": {
      "text/plain": [
       "[1, 2, 3, 4, 5]"
      ]
     },
     "execution_count": 19,
     "metadata": {},
     "output_type": "execute_result"
    }
   ],
   "source": [
    "a_list"
   ]
  },
  {
   "cell_type": "code",
   "execution_count": null,
   "id": "c9d22407-ccec-429d-b79d-dab9f035c014",
   "metadata": {},
   "outputs": [],
   "source": [
    "## Combine (concatenate) two lists with +"
   ]
  },
  {
   "cell_type": "code",
   "execution_count": 20,
   "id": "0f8e966a-6f52-4f12-9c58-8bf004a5ca77",
   "metadata": {},
   "outputs": [
    {
     "data": {
      "text/plain": [
       "[-45, 6, 0, 72, 1543]"
      ]
     },
     "execution_count": 20,
     "metadata": {},
     "output_type": "execute_result"
    }
   ],
   "source": [
    "c"
   ]
  },
  {
   "cell_type": "code",
   "execution_count": 21,
   "id": "bfbf3715-2924-4ac9-aad2-4572fdd0d50b",
   "metadata": {},
   "outputs": [
    {
     "data": {
      "text/plain": [
       "[1, 2, 3, 4, 5]"
      ]
     },
     "execution_count": 21,
     "metadata": {},
     "output_type": "execute_result"
    }
   ],
   "source": [
    "a_list"
   ]
  },
  {
   "cell_type": "code",
   "execution_count": 28,
   "id": "59e18c65-70d0-45f1-9476-09093c23cfc0",
   "metadata": {},
   "outputs": [],
   "source": [
    "concatenated_list = c + a_list"
   ]
  },
  {
   "cell_type": "code",
   "execution_count": null,
   "id": "fd2e459c-adbf-4b06-949b-4a8278490019",
   "metadata": {
    "tags": []
   },
   "outputs": [],
   "source": [
    "## Use the powerful for i in range() to process every item in a list (in this case, printing a formatted string)."
   ]
  },
  {
   "cell_type": "code",
   "execution_count": 29,
   "id": "5f373dbf-43c7-41ba-a21a-41bf2200ab58",
   "metadata": {},
   "outputs": [
    {
     "data": {
      "text/plain": [
       "[-45, 6, 0, 72, 1543, 1, 2, 3, 4, 5]"
      ]
     },
     "execution_count": 29,
     "metadata": {},
     "output_type": "execute_result"
    }
   ],
   "source": [
    "concatenated_list "
   ]
  },
  {
   "cell_type": "code",
   "execution_count": 31,
   "id": "e991bf36-1ce9-4dd6-aff9-fedf6832c865",
   "metadata": {},
   "outputs": [
    {
     "name": "stdout",
     "output_type": "stream",
     "text": [
      "0:-45\n",
      "1:6\n",
      "2:0\n",
      "3:72\n",
      "4:1543\n",
      "5:1\n",
      "6:2\n",
      "7:3\n",
      "8:4\n",
      "9:5\n"
     ]
    }
   ],
   "source": [
    "for i in range(len(concatenated_list)): print(f'{i}:{concatenated_list[i]}')"
   ]
  },
  {
   "cell_type": "code",
   "execution_count": null,
   "id": "f8fd77f5-9ceb-4769-999a-fad3cbdafaf9",
   "metadata": {},
   "outputs": [],
   "source": [
    "## Create three lists, a, b, and c. Use the comparison operators to compare the lists."
   ]
  },
  {
   "cell_type": "code",
   "execution_count": 32,
   "id": "1c67107b-681e-4ef2-b409-e8bf14ee748e",
   "metadata": {},
   "outputs": [],
   "source": [
    "a = [1, 2, 3]"
   ]
  },
  {
   "cell_type": "code",
   "execution_count": 33,
   "id": "74dde9ae-2337-4bc1-91f5-f9e23f70b8a7",
   "metadata": {},
   "outputs": [],
   "source": [
    "b = [1, 2, 3]"
   ]
  },
  {
   "cell_type": "code",
   "execution_count": 34,
   "id": "8039ada9-56a6-4b70-b315-cc64b591af94",
   "metadata": {},
   "outputs": [],
   "source": [
    "c = [1, 2, 3, 4]"
   ]
  },
  {
   "cell_type": "code",
   "execution_count": 35,
   "id": "cf05c449-6a3d-47c4-9c69-c9c5b981f4f4",
   "metadata": {},
   "outputs": [
    {
     "data": {
      "text/plain": [
       "True"
      ]
     },
     "execution_count": 35,
     "metadata": {},
     "output_type": "execute_result"
    }
   ],
   "source": [
    "a ==b"
   ]
  },
  {
   "cell_type": "code",
   "execution_count": 36,
   "id": "dec0d694-1486-4126-bd7e-efd791645402",
   "metadata": {},
   "outputs": [
    {
     "data": {
      "text/plain": [
       "False"
      ]
     },
     "execution_count": 36,
     "metadata": {},
     "output_type": "execute_result"
    }
   ],
   "source": [
    "a ==c"
   ]
  },
  {
   "cell_type": "code",
   "execution_count": 37,
   "id": "4d521830-10e3-49c9-9e19-0531c266b91b",
   "metadata": {},
   "outputs": [
    {
     "data": {
      "text/plain": [
       "False"
      ]
     },
     "execution_count": 37,
     "metadata": {},
     "output_type": "execute_result"
    }
   ],
   "source": [
    "b ==c"
   ]
  },
  {
   "cell_type": "code",
   "execution_count": 38,
   "id": "09d9a6ba-5f96-48c8-a85b-60d74aabb4ce",
   "metadata": {},
   "outputs": [
    {
     "data": {
      "text/plain": [
       "True"
      ]
     },
     "execution_count": 38,
     "metadata": {},
     "output_type": "execute_result"
    }
   ],
   "source": [
    "a < c"
   ]
  },
  {
   "cell_type": "code",
   "execution_count": 39,
   "id": "7c0e30bb-eec6-4d54-844c-dca0a1ef28c3",
   "metadata": {},
   "outputs": [
    {
     "data": {
      "text/plain": [
       "True"
      ]
     },
     "execution_count": 39,
     "metadata": {},
     "output_type": "execute_result"
    }
   ],
   "source": [
    "c >=b"
   ]
  },
  {
   "cell_type": "code",
   "execution_count": 41,
   "id": "e4b9cf53-b330-402c-8a5a-be2918a53987",
   "metadata": {},
   "outputs": [
    {
     "data": {
      "text/plain": [
       "False"
      ]
     },
     "execution_count": 41,
     "metadata": {},
     "output_type": "execute_result"
    }
   ],
   "source": [
    "a > b"
   ]
  },
  {
   "cell_type": "code",
   "execution_count": null,
   "id": "88962e55-3412-459b-b14a-258368a262be",
   "metadata": {},
   "outputs": [],
   "source": [
    "## Do the Self Check. Create a list of numbers, and pass this list into your cube_list function for processing."
   ]
  },
  {
   "cell_type": "code",
   "execution_count": 56,
   "id": "be82f2fa-f834-428d-87e4-f3afcb0b558c",
   "metadata": {},
   "outputs": [],
   "source": [
    "import statistics"
   ]
  },
  {
   "cell_type": "code",
   "execution_count": 57,
   "id": "4b366ebb-a7ff-407b-b85d-902394a709e5",
   "metadata": {},
   "outputs": [],
   "source": [
    "numbers = [1,2,3,4,5,6,7,8,9,10]"
   ]
  },
  {
   "cell_type": "code",
   "execution_count": 42,
   "id": "660b15df-5f4d-4475-8bba-7f38e27e21ef",
   "metadata": {},
   "outputs": [],
   "source": [
    "## Module 4 Project Part 1 Ch 5  Checkpoint 1  from Ramon Torres"
   ]
  }
 ],
 "metadata": {
  "kernelspec": {
   "display_name": "Python 3 (ipykernel)",
   "language": "python",
   "name": "python3"
  },
  "language_info": {
   "codemirror_mode": {
    "name": "ipython",
    "version": 3
   },
   "file_extension": ".py",
   "mimetype": "text/x-python",
   "name": "python",
   "nbconvert_exporter": "python",
   "pygments_lexer": "ipython3",
   "version": "3.9.12"
  }
 },
 "nbformat": 4,
 "nbformat_minor": 5
}
