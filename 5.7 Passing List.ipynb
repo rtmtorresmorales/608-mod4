{
 "cells": [
  {
   "cell_type": "code",
   "execution_count": 10,
   "id": "a4f0d585-22e8-47ae-83ec-9fe1df392290",
   "metadata": {},
   "outputs": [],
   "source": [
    "## Sections 5.7"
   ]
  },
  {
   "cell_type": "code",
   "execution_count": 7,
   "id": "5a697a2b-97ba-4eb7-a601-8e39bbc0d998",
   "metadata": {},
   "outputs": [],
   "source": [
    "numbers_tuple = (10, 20, 30)"
   ]
  },
  {
   "cell_type": "code",
   "execution_count": 8,
   "id": "681be188-70af-4896-b742-92acaecffdc9",
   "metadata": {},
   "outputs": [
    {
     "data": {
      "text/plain": [
       "(10, 20, 30)"
      ]
     },
     "execution_count": 8,
     "metadata": {},
     "output_type": "execute_result"
    }
   ],
   "source": [
    "numbers_tuple"
   ]
  },
  {
   "cell_type": "code",
   "execution_count": 9,
   "id": "ca3274ba-1504-4739-8ed5-f8588fde9e99",
   "metadata": {},
   "outputs": [
    {
     "ename": "NameError",
     "evalue": "name 'modify_elements' is not defined",
     "output_type": "error",
     "traceback": [
      "\u001b[1;31m---------------------------------------------------------------------------\u001b[0m",
      "\u001b[1;31mNameError\u001b[0m                                 Traceback (most recent call last)",
      "Input \u001b[1;32mIn [9]\u001b[0m, in \u001b[0;36m<cell line: 1>\u001b[1;34m()\u001b[0m\n\u001b[1;32m----> 1\u001b[0m \u001b[43mmodify_elements\u001b[49m(numbers_tuple)\n",
      "\u001b[1;31mNameError\u001b[0m: name 'modify_elements' is not defined"
     ]
    }
   ],
   "source": [
    "modify_elements(numbers_tuple)"
   ]
  }
 ],
 "metadata": {
  "kernelspec": {
   "display_name": "Python 3 (ipykernel)",
   "language": "python",
   "name": "python3"
  },
  "language_info": {
   "codemirror_mode": {
    "name": "ipython",
    "version": 3
   },
   "file_extension": ".py",
   "mimetype": "text/x-python",
   "name": "python",
   "nbconvert_exporter": "python",
   "pygments_lexer": "ipython3",
   "version": "3.9.12"
  }
 },
 "nbformat": 4,
 "nbformat_minor": 5
}
