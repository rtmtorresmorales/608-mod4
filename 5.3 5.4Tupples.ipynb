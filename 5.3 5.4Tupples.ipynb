{
 "cells": [
  {
   "cell_type": "code",
   "execution_count": 23,
   "id": "7a329020-c29f-4af2-958f-078102a70145",
   "metadata": {
    "tags": []
   },
   "outputs": [],
   "source": [
    "## Module 4 Project Part 1 Ch 5  Checkpoint 2 Tuples Section 5.3 5.4 from Ramon Torres"
   ]
  },
  {
   "cell_type": "code",
   "execution_count": 1,
   "id": "db6cb3e9-711f-4af6-9096-070116c0c6b2",
   "metadata": {},
   "outputs": [],
   "source": [
    "student_tuple = ()"
   ]
  },
  {
   "cell_type": "code",
   "execution_count": 2,
   "id": "2fd77c6f-e08e-4eab-9c8b-9fc977bec909",
   "metadata": {},
   "outputs": [
    {
     "data": {
      "text/plain": [
       "()"
      ]
     },
     "execution_count": 2,
     "metadata": {},
     "output_type": "execute_result"
    }
   ],
   "source": [
    "student_tuple"
   ]
  },
  {
   "cell_type": "code",
   "execution_count": 4,
   "id": "b04b7331-e90d-46e8-a4b6-a7be47764afe",
   "metadata": {},
   "outputs": [
    {
     "data": {
      "text/plain": [
       "0"
      ]
     },
     "execution_count": 4,
     "metadata": {},
     "output_type": "execute_result"
    }
   ],
   "source": [
    "len(student_tuple)"
   ]
  },
  {
   "cell_type": "code",
   "execution_count": 6,
   "id": "132378b9-a922-4b27-8239-62366a333834",
   "metadata": {},
   "outputs": [],
   "source": [
    "student_tuple = 'John', 'Green', 3.3"
   ]
  },
  {
   "cell_type": "code",
   "execution_count": 7,
   "id": "cf5ce60d-401a-4af2-b9cc-19837481ecd9",
   "metadata": {},
   "outputs": [
    {
     "data": {
      "text/plain": [
       "3"
      ]
     },
     "execution_count": 7,
     "metadata": {},
     "output_type": "execute_result"
    }
   ],
   "source": [
    "len(student_tuple)"
   ]
  },
  {
   "cell_type": "code",
   "execution_count": 11,
   "id": "04cd541c-0f9a-422c-b0c2-34f6f4c51adc",
   "metadata": {},
   "outputs": [
    {
     "data": {
      "text/plain": [
       "('John', 'Green', 3.3)"
      ]
     },
     "execution_count": 11,
     "metadata": {},
     "output_type": "execute_result"
    }
   ],
   "source": [
    "student_tuple"
   ]
  },
  {
   "cell_type": "code",
   "execution_count": 9,
   "id": "c72d5ed2-e7ad-48d3-97da-8a1ddfb86ee0",
   "metadata": {},
   "outputs": [],
   "source": [
    "another_student_tuple = 'Mary', 'Red', 3.3"
   ]
  },
  {
   "cell_type": "code",
   "execution_count": 10,
   "id": "b0f139c4-3731-4be3-a0ad-b1aef15353a8",
   "metadata": {},
   "outputs": [
    {
     "data": {
      "text/plain": [
       "('Mary', 'Red', 3.3)"
      ]
     },
     "execution_count": 10,
     "metadata": {},
     "output_type": "execute_result"
    }
   ],
   "source": [
    "another_student_tuple"
   ]
  },
  {
   "cell_type": "code",
   "execution_count": 12,
   "id": "ac05a683-d726-4602-ab1e-4549bf84185a",
   "metadata": {},
   "outputs": [
    {
     "data": {
      "text/plain": [
       "'John'"
      ]
     },
     "execution_count": 12,
     "metadata": {},
     "output_type": "execute_result"
    }
   ],
   "source": [
    "student_tuple [0]"
   ]
  },
  {
   "cell_type": "code",
   "execution_count": 13,
   "id": "5d6444a9-8abc-4e77-992a-3b56c91440ee",
   "metadata": {},
   "outputs": [
    {
     "data": {
      "text/plain": [
       "'Mary'"
      ]
     },
     "execution_count": 13,
     "metadata": {},
     "output_type": "execute_result"
    }
   ],
   "source": [
    "another_student_tuple [0]"
   ]
  },
  {
   "cell_type": "code",
   "execution_count": 14,
   "id": "d51d59e3-9808-4886-b2d1-ff4ded6f75d8",
   "metadata": {},
   "outputs": [],
   "source": [
    "student_tuple +=('Adam', 'Helen')"
   ]
  },
  {
   "cell_type": "code",
   "execution_count": 15,
   "id": "9390422e-6521-4238-ab60-9b89a406f656",
   "metadata": {},
   "outputs": [
    {
     "data": {
      "text/plain": [
       "('John', 'Green', 3.3, 'Adam', 'Helen')"
      ]
     },
     "execution_count": 15,
     "metadata": {},
     "output_type": "execute_result"
    }
   ],
   "source": [
    "student_tuple"
   ]
  },
  {
   "cell_type": "code",
   "execution_count": 16,
   "id": "66aa8c61-520f-4115-9430-b1a849667dfa",
   "metadata": {},
   "outputs": [],
   "source": [
    "## 5.3.3 Self check="
   ]
  },
  {
   "cell_type": "code",
   "execution_count": 17,
   "id": "96656434-dc8a-40bf-b2a2-57d07cc083c2",
   "metadata": {},
   "outputs": [],
   "source": [
    "single = (123.45)"
   ]
  },
  {
   "cell_type": "code",
   "execution_count": 18,
   "id": "f67e13dd-5db9-4af6-89f7-bdbd858a9d28",
   "metadata": {},
   "outputs": [
    {
     "data": {
      "text/plain": [
       "123.45"
      ]
     },
     "execution_count": 18,
     "metadata": {},
     "output_type": "execute_result"
    }
   ],
   "source": [
    "single"
   ]
  },
  {
   "cell_type": "code",
   "execution_count": 19,
   "id": "ec4f35ac-ff52-4398-baa6-62ceb1d8377e",
   "metadata": {},
   "outputs": [],
   "source": [
    "list = [1, 2, 3]"
   ]
  },
  {
   "cell_type": "code",
   "execution_count": 27,
   "id": "006e6a57-a367-4ea9-93a1-c359a88d0401",
   "metadata": {},
   "outputs": [],
   "source": [
    "tupple = (4, 5, 6)"
   ]
  },
  {
   "cell_type": "code",
   "execution_count": 30,
   "id": "79a1f9cf-2803-4859-bf28-47c2e247ee88",
   "metadata": {},
   "outputs": [
    {
     "ename": "TypeError",
     "evalue": "can only concatenate list (not \"type\") to list",
     "output_type": "error",
     "traceback": [
      "\u001b[1;31m---------------------------------------------------------------------------\u001b[0m",
      "\u001b[1;31mTypeError\u001b[0m                                 Traceback (most recent call last)",
      "Input \u001b[1;32mIn [30]\u001b[0m, in \u001b[0;36m<cell line: 1>\u001b[1;34m()\u001b[0m\n\u001b[1;32m----> 1\u001b[0m new \u001b[38;5;241m=\u001b[39m \u001b[38;5;28;43mlist\u001b[39;49m\u001b[43m \u001b[49m\u001b[38;5;241;43m+\u001b[39;49m\u001b[43m \u001b[49m\u001b[38;5;28;43mtuple\u001b[39;49m\n",
      "\u001b[1;31mTypeError\u001b[0m: can only concatenate list (not \"type\") to list"
     ]
    }
   ],
   "source": [
    "new = list + tuple"
   ]
  },
  {
   "cell_type": "code",
   "execution_count": 29,
   "id": "0f688bea-c9fd-4c17-94c0-64c4120533b5",
   "metadata": {},
   "outputs": [
    {
     "ename": "TypeError",
     "evalue": "can only concatenate list (not \"tuple\") to list",
     "output_type": "error",
     "traceback": [
      "\u001b[1;31m---------------------------------------------------------------------------\u001b[0m",
      "\u001b[1;31mTypeError\u001b[0m                                 Traceback (most recent call last)",
      "Input \u001b[1;32mIn [29]\u001b[0m, in \u001b[0;36m<cell line: 1>\u001b[1;34m()\u001b[0m\n\u001b[1;32m----> 1\u001b[0m \u001b[43m[\u001b[49m\u001b[38;5;241;43m1\u001b[39;49m\u001b[43m,\u001b[49m\u001b[43m \u001b[49m\u001b[38;5;241;43m2\u001b[39;49m\u001b[43m,\u001b[49m\u001b[43m \u001b[49m\u001b[38;5;241;43m3\u001b[39;49m\u001b[43m]\u001b[49m\u001b[43m \u001b[49m\u001b[38;5;241;43m+\u001b[39;49m\u001b[43m \u001b[49m\u001b[43m(\u001b[49m\u001b[38;5;241;43m4\u001b[39;49m\u001b[43m,\u001b[49m\u001b[43m \u001b[49m\u001b[38;5;241;43m5\u001b[39;49m\u001b[43m,\u001b[49m\u001b[43m \u001b[49m\u001b[38;5;241;43m6\u001b[39;49m\u001b[43m)\u001b[49m\n",
      "\u001b[1;31mTypeError\u001b[0m: can only concatenate list (not \"tuple\") to list"
     ]
    }
   ],
   "source": [
    " [1, 2, 3] + (4, 5, 6)"
   ]
  },
  {
   "cell_type": "code",
   "execution_count": 23,
   "id": "cd2ffd8f-a3f0-4b63-8665-65b45d91f8e1",
   "metadata": {
    "tags": []
   },
   "outputs": [],
   "source": [
    "## Module 4 Project Part 1 Ch 5  Checkpoint 2 Tuples Section 5.4 from Ramon Torres"
   ]
  },
  {
   "cell_type": "code",
   "execution_count": 31,
   "id": "2337d062-f304-41d4-8f58-03083a717401",
   "metadata": {},
   "outputs": [],
   "source": [
    "student_tuple = ('Amanda', [98, 85, 87])"
   ]
  },
  {
   "cell_type": "code",
   "execution_count": 32,
   "id": "c3550b2a-32b2-43b1-a346-0a9f2041b6ea",
   "metadata": {},
   "outputs": [],
   "source": [
    "first_name, grades = student_tuple"
   ]
  },
  {
   "cell_type": "code",
   "execution_count": 33,
   "id": "ec469597-ec12-4ea0-93fc-920b78b4a3df",
   "metadata": {},
   "outputs": [
    {
     "data": {
      "text/plain": [
       "'Amanda'"
      ]
     },
     "execution_count": 33,
     "metadata": {},
     "output_type": "execute_result"
    }
   ],
   "source": [
    "first_name"
   ]
  },
  {
   "cell_type": "code",
   "execution_count": 34,
   "id": "66df00cb-4b81-43ab-844e-8b863c7e40cc",
   "metadata": {},
   "outputs": [
    {
     "data": {
      "text/plain": [
       "[98, 85, 87]"
      ]
     },
     "execution_count": 34,
     "metadata": {},
     "output_type": "execute_result"
    }
   ],
   "source": [
    "grades"
   ]
  },
  {
   "cell_type": "code",
   "execution_count": 46,
   "id": "07d63fd0-440d-4dd8-b76d-591575241c38",
   "metadata": {},
   "outputs": [],
   "source": [
    "second = 'Hi'"
   ]
  },
  {
   "cell_type": "code",
   "execution_count": 50,
   "id": "9ab370ea-7d67-4377-93fc-5340e4862daf",
   "metadata": {},
   "outputs": [
    {
     "name": "stdout",
     "output_type": "stream",
     "text": [
      "Hi Amanda How may I help you today?\n"
     ]
    }
   ],
   "source": [
    "print(f'{second}', first_name, 'How may I help you today?')"
   ]
  },
  {
   "cell_type": "code",
   "execution_count": 52,
   "id": "890e5a45-7d45-45d2-8ae6-0d9a27012d6f",
   "metadata": {},
   "outputs": [],
   "source": [
    "number1, number2, number3 = [2, 3, 5]"
   ]
  },
  {
   "cell_type": "code",
   "execution_count": 56,
   "id": "af1448fa-1e66-42e7-af14-2906ed4ede7c",
   "metadata": {},
   "outputs": [
    {
     "name": "stdout",
     "output_type": "stream",
     "text": [
      "2 3 5\n"
     ]
    }
   ],
   "source": [
    "print(f'{number1} {number2} {number3}')"
   ]
  },
  {
   "cell_type": "code",
   "execution_count": 57,
   "id": "504773b5-c32f-47df-8ef4-e8530d4e1e53",
   "metadata": {},
   "outputs": [],
   "source": [
    "number1, number2, number3 = range(10, 40 , 10)"
   ]
  },
  {
   "cell_type": "code",
   "execution_count": 58,
   "id": "542a1ab7-3f2f-4854-8b43-fd27a31a4e79",
   "metadata": {},
   "outputs": [
    {
     "name": "stdout",
     "output_type": "stream",
     "text": [
      "10 20 30\n"
     ]
    }
   ],
   "source": [
    "print(f'{number1} {number2} {number3}')"
   ]
  },
  {
   "cell_type": "code",
   "execution_count": 60,
   "id": "57650bf9-a9e8-4bd8-86b6-ba977fe66cf7",
   "metadata": {},
   "outputs": [],
   "source": [
    "number1 = 99"
   ]
  },
  {
   "cell_type": "code",
   "execution_count": 62,
   "id": "0f7c2014-6ab3-4e91-a034-1b9b6b160bbb",
   "metadata": {},
   "outputs": [],
   "source": [
    "number1, number2 = (number2, number1)"
   ]
  },
  {
   "cell_type": "code",
   "execution_count": 61,
   "id": "30c8dfca-5e45-48d3-b673-bf359807782f",
   "metadata": {},
   "outputs": [],
   "source": [
    "number2 = 22"
   ]
  },
  {
   "cell_type": "code",
   "execution_count": 63,
   "id": "214109ca-1932-487b-a919-70fcf389a6e2",
   "metadata": {},
   "outputs": [
    {
     "name": "stdout",
     "output_type": "stream",
     "text": [
      "number1 = 22; number2 = 99\n"
     ]
    }
   ],
   "source": [
    "print(f'number1 = {number1}; number2 = {number2}')"
   ]
  },
  {
   "cell_type": "code",
   "execution_count": 71,
   "id": "47906e98-ce04-46b5-8661-0bce955f3f5e",
   "metadata": {
    "tags": []
   },
   "outputs": [],
   "source": [
    "colors = []"
   ]
  },
  {
   "cell_type": "code",
   "execution_count": 76,
   "id": "503a6b7d-46ff-4941-a02f-97e375314492",
   "metadata": {},
   "outputs": [],
   "source": [
    "colors = ['red', 'orange', 'yellow']"
   ]
  },
  {
   "cell_type": "code",
   "execution_count": 77,
   "id": "7b948651-a5d9-4711-97b1-e67ff53c8544",
   "metadata": {},
   "outputs": [
    {
     "data": {
      "text/plain": [
       "((0, 'red'), (1, 'orange'), (2, 'yellow'))"
      ]
     },
     "execution_count": 77,
     "metadata": {},
     "output_type": "execute_result"
    }
   ],
   "source": [
    "tuple(enumerate(colors))"
   ]
  },
  {
   "cell_type": "code",
   "execution_count": 81,
   "id": "7c97b44c-d773-4ca3-b0a7-f4a548686dfd",
   "metadata": {},
   "outputs": [
    {
     "name": "stdout",
     "output_type": "stream",
     "text": [
      "0: red\n",
      "1: orange\n",
      "2: yellow\n"
     ]
    }
   ],
   "source": [
    "for index, value in enumerate(colors): print(f'{index}: {value}')"
   ]
  }
 ],
 "metadata": {
  "kernelspec": {
   "display_name": "Python 3 (ipykernel)",
   "language": "python",
   "name": "python3"
  },
  "language_info": {
   "codemirror_mode": {
    "name": "ipython",
    "version": 3
   },
   "file_extension": ".py",
   "mimetype": "text/x-python",
   "name": "python",
   "nbconvert_exporter": "python",
   "pygments_lexer": "ipython3",
   "version": "3.9.12"
  }
 },
 "nbformat": 4,
 "nbformat_minor": 5
}
