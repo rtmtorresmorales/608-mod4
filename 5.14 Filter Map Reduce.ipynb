{
 "cells": [
  {
   "cell_type": "code",
   "execution_count": 1,
   "id": "49c2edde-8ccb-4afe-b2d7-02f448df2186",
   "metadata": {},
   "outputs": [],
   "source": [
    "## 5.14 Self check"
   ]
  },
  {
   "cell_type": "code",
   "execution_count": 2,
   "id": "5fb82088-3225-46a2-ba78-a7ff44f2d558",
   "metadata": {},
   "outputs": [],
   "source": [
    "numbers = list(range(1,16))"
   ]
  },
  {
   "cell_type": "code",
   "execution_count": 3,
   "id": "04a2473a-2e2e-4ae8-aabf-e14370a412d7",
   "metadata": {},
   "outputs": [
    {
     "data": {
      "text/plain": [
       "[1, 2, 3, 4, 5, 6, 7, 8, 9, 10, 11, 12, 13, 14, 15]"
      ]
     },
     "execution_count": 3,
     "metadata": {},
     "output_type": "execute_result"
    }
   ],
   "source": [
    "numbers"
   ]
  },
  {
   "cell_type": "code",
   "execution_count": 5,
   "id": "73c51928-ece1-4cbd-95a4-04921f257e4b",
   "metadata": {},
   "outputs": [
    {
     "data": {
      "text/plain": [
       "[2, 4, 6, 8, 10, 12, 14]"
      ]
     },
     "execution_count": 5,
     "metadata": {},
     "output_type": "execute_result"
    }
   ],
   "source": [
    "list(filter(lambda x: x % 2 == 0, numbers))"
   ]
  },
  {
   "cell_type": "code",
   "execution_count": 6,
   "id": "c01cc4da-0e5c-41f3-9f12-5709d8036291",
   "metadata": {},
   "outputs": [
    {
     "data": {
      "text/plain": [
       "[1, 4, 9, 16, 25, 36, 49, 64, 81, 100, 121, 144, 169, 196, 225]"
      ]
     },
     "execution_count": 6,
     "metadata": {},
     "output_type": "execute_result"
    }
   ],
   "source": [
    "list(map(lambda x: x ** 2, numbers))"
   ]
  },
  {
   "cell_type": "code",
   "execution_count": 9,
   "id": "75a458c7-6fd1-4e28-a7d9-aa5390aafe58",
   "metadata": {},
   "outputs": [
    {
     "data": {
      "text/plain": [
       "[4, 16, 36, 64, 100, 144, 196]"
      ]
     },
     "execution_count": 9,
     "metadata": {},
     "output_type": "execute_result"
    }
   ],
   "source": [
    "list(map(lambda x: x ** 2, filter(lambda x: x % 2 == 0, numbers)))"
   ]
  },
  {
   "cell_type": "code",
   "execution_count": 10,
   "id": "9f45b2a4-da3a-4785-ac6b-c7f8e0daf76f",
   "metadata": {},
   "outputs": [],
   "source": [
    "farenheit = (41, 32, 212)"
   ]
  },
  {
   "cell_type": "code",
   "execution_count": 12,
   "id": "fed5c6b7-4ed5-450e-816c-eed5c85920d4",
   "metadata": {},
   "outputs": [
    {
     "data": {
      "text/plain": [
       "[(41, 5.0), (32, 0.0), (212, 100.0)]"
      ]
     },
     "execution_count": 12,
     "metadata": {},
     "output_type": "execute_result"
    }
   ],
   "source": [
    "list(map(lambda x: (x, (x - 32) * 5 / 9), farenheit))"
   ]
  }
 ],
 "metadata": {
  "kernelspec": {
   "display_name": "Python 3 (ipykernel)",
   "language": "python",
   "name": "python3"
  },
  "language_info": {
   "codemirror_mode": {
    "name": "ipython",
    "version": 3
   },
   "file_extension": ".py",
   "mimetype": "text/x-python",
   "name": "python",
   "nbconvert_exporter": "python",
   "pygments_lexer": "ipython3",
   "version": "3.9.12"
  }
 },
 "nbformat": 4,
 "nbformat_minor": 5
}
